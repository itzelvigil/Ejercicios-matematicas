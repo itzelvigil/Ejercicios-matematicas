{
 "cells": [
  {
   "cell_type": "markdown",
   "metadata": {},
   "source": [
    "# Ejercicio 1 "
   ]
  },
  {
   "cell_type": "code",
   "execution_count": 1,
   "metadata": {},
   "outputs": [],
   "source": [
    "import numpy as np\n",
    "import matplotlib.pyplot as plt"
   ]
  },
  {
   "cell_type": "markdown",
   "metadata": {},
   "source": [
    "- Primeramente se declara la matriz \n",
    "A = [[1, 2], [2, 3]]."
   ]
  },
  {
   "cell_type": "code",
   "execution_count": 35,
   "metadata": {},
   "outputs": [],
   "source": [
    "A = [[1,2],[2,3]]"
   ]
  },
  {
   "cell_type": "markdown",
   "metadata": {},
   "source": [
    "Se aplica la descomposición de valores singulaes"
   ]
  },
  {
   "cell_type": "code",
   "execution_count": 42,
   "metadata": {},
   "outputs": [],
   "source": [
    "u, s, v = np.linalg.svd(A)"
   ]
  },
  {
   "cell_type": "markdown",
   "metadata": {},
   "source": [
    "Resultados"
   ]
  },
  {
   "cell_type": "code",
   "execution_count": 43,
   "metadata": {},
   "outputs": [
    {
     "name": "stdout",
     "output_type": "stream",
     "text": [
      "U: \n",
      "[[-0.52573111 -0.85065081]\n",
      " [-0.85065081  0.52573111]]\n"
     ]
    }
   ],
   "source": [
    "print(\"U: \")\n",
    "print(u)"
   ]
  },
  {
   "cell_type": "code",
   "execution_count": 44,
   "metadata": {},
   "outputs": [
    {
     "name": "stdout",
     "output_type": "stream",
     "text": [
      "S: \n",
      "[4.23606798 0.23606798]\n"
     ]
    }
   ],
   "source": [
    "print(\"S: \")\n",
    "print(s)"
   ]
  },
  {
   "cell_type": "code",
   "execution_count": 45,
   "metadata": {},
   "outputs": [
    {
     "name": "stdout",
     "output_type": "stream",
     "text": [
      "V: \n",
      "[[-0.52573111 -0.85065081]\n",
      " [ 0.85065081 -0.52573111]]\n"
     ]
    }
   ],
   "source": [
    "print(\"V: \")\n",
    "print(v)"
   ]
  },
  {
   "cell_type": "markdown",
   "metadata": {},
   "source": [
    "Comrpobación"
   ]
  },
  {
   "cell_type": "code",
   "execution_count": 37,
   "metadata": {},
   "outputs": [],
   "source": [
    "Atest = np.dot(u, np.dot(np.diag(s),v))\n",
    "print(Atest)"
   ]
  },
  {
   "cell_type": "markdown",
   "metadata": {},
   "source": [
    "2. Graficar y aplicar los componentes a un circulo de radio 1 "
   ]
  },
  {
   "cell_type": "code",
   "execution_count": 46,
   "metadata": {},
   "outputs": [
    {
     "data": {
      "image/png": "[encoded data removed]",
      "text/plain": [
       "<Figure size 432x288 with 1 Axes>"
      ]
     },
     "metadata": {
      "needs_background": "light"
     },
     "output_type": "display_data"
    }
   ],
   "source": [
    "theta = np.linspace(0, 2*np.pi, 100) \n",
    "r = np.sqrt(1) \n",
    "\n",
    "x = r*np.cos(theta) \n",
    "y = r*np.sin(theta)\n",
    "\n",
    "vr = np.vstack((x, y)).T\n",
    "\n",
    "fig, ax = plt.subplots(1)\n",
    "ax.plot(x,y)\n",
    "ax.yaxis.grid(True)\n",
    "ax.xaxis.grid(True)\n",
    "ax.set_aspect(1)\n",
    "plt.show()"
   ]
  },
  {
   "cell_type": "markdown",
   "metadata": {},
   "source": [
    "Se aplican los valores de u,s y v a los valores resultantes para graficar el circulo."
   ]
  },
  {
   "cell_type": "code",
   "execution_count": 54,
   "metadata": {},
   "outputs": [
    {
     "data": {
      "image/png": "[encoded data removed]",
      "text/plain": [
       "<Figure size 432x288 with 1 Axes>"
      ]
     },
     "metadata": {
      "needs_background": "light"
     },
     "output_type": "display_data"
    }
   ],
   "source": [
    "vg = [] \n",
    "for vector in vr:\n",
    "    vg.append(np.dot(u, np.dot(np.diag(s), np.dot(v, vector))))\n",
    "vg = np.array(vg)\n",
    "\n",
    "fig, ax = plt.subplots(1)\n",
    "ax.plot(vg[:,0], vg[:,1], color=\"red\")\n",
    "ax.yaxis.grid(True)\n",
    "ax.xaxis.grid(True)\n",
    "ax.set_aspect(1)\n",
    "plt.show()"
   ]
  },
  {
   "cell_type": "markdown",
   "metadata": {},
   "source": [
    "Calcular el rank de una matriz que mas se aproxime a A"
   ]
  },
  {
   "cell_type": "code",
   "execution_count": 55,
   "metadata": {},
   "outputs": [
    {
     "name": "stdout",
     "output_type": "stream",
     "text": [
      "[-0.52573111 -0.85065081]\n",
      "4.236067977499789\n",
      "[-0.52573111 -0.85065081]\n",
      "Matriz de rank 1 que mejor se aproxima a A: \n",
      "[1.17082039 3.06524758]\n"
     ]
    }
   ],
   "source": [
    "Un = np.squeeze(np.asarray(u[0]))\n",
    "print(Un)\n",
    "Sn = s[0]\n",
    "print(Sn)\n",
    "Vn = np.squeeze(np.asarray(v[0]))\n",
    "print(Vn)\n",
    "An = Un * Sn * Vn\n",
    "\n",
    "print(\"Matriz de rank 1 que mejor se aproxima a A: \")\n",
    "print(An)"
   ]
  }
 ],
 "metadata": {
  "kernelspec": {
   "display_name": "Python 3",
   "language": "python",
   "name": "python3"
  },
  "language_info": {
   "codemirror_mode": {
    "name": "ipython",
    "version": 3
   },
   "file_extension": ".py",
   "mimetype": "text/x-python",
   "name": "python",
   "nbconvert_exporter": "python",
   "pygments_lexer": "ipython3",
   "version": "3.7.3"
  }
 },
 "nbformat": 4,
 "nbformat_minor": 4
}
